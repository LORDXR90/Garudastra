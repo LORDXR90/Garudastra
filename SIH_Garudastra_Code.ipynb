{
  "nbformat": 4,
  "nbformat_minor": 0,
  "metadata": {
    "colab": {
      "provenance": []
    },
    "kernelspec": {
      "name": "python3",
      "display_name": "Python 3"
    },
    "language_info": {
      "name": "python"
    }
  },
  "cells": [
    {
      "cell_type": "code",
      "execution_count": 1,
      "metadata": {
        "colab": {
          "base_uri": "https://localhost:8080/"
        },
        "id": "UvDSRna47vj2",
        "outputId": "4b526ef4-8308-4aa1-fc4f-958e0edd55bc"
      },
      "outputs": [
        {
          "output_type": "stream",
          "name": "stdout",
          "text": [
            "Requirement already satisfied: nltk in /usr/local/lib/python3.10/dist-packages (3.8.1)\n",
            "Requirement already satisfied: click in /usr/local/lib/python3.10/dist-packages (from nltk) (8.1.7)\n",
            "Requirement already satisfied: joblib in /usr/local/lib/python3.10/dist-packages (from nltk) (1.3.2)\n",
            "Requirement already satisfied: regex>=2021.8.3 in /usr/local/lib/python3.10/dist-packages (from nltk) (2023.6.3)\n",
            "Requirement already satisfied: tqdm in /usr/local/lib/python3.10/dist-packages (from nltk) (4.66.1)\n"
          ]
        }
      ],
      "source": [
        "pip install nltk"
      ]
    },
    {
      "cell_type": "code",
      "source": [
        "import nltk\n",
        "from nltk.corpus import stopwords\n",
        "from nltk.tokenize import sent_tokenize, word_tokenize\n",
        "from nltk.probability import FreqDist\n",
        "from nltk.tokenize.treebank import TreebankWordDetokenizer\n",
        "\n",
        "nltk.download('punkt')\n",
        "nltk.download('stopwords')"
      ],
      "metadata": {
        "colab": {
          "base_uri": "https://localhost:8080/"
        },
        "id": "HN-TOmuBhZDS",
        "outputId": "cb7a1320-aba7-4439-bb29-79d356db56b9"
      },
      "execution_count": 3,
      "outputs": [
        {
          "output_type": "stream",
          "name": "stderr",
          "text": [
            "[nltk_data] Downloading package punkt to /root/nltk_data...\n",
            "[nltk_data]   Package punkt is already up-to-date!\n",
            "[nltk_data] Downloading package stopwords to /root/nltk_data...\n",
            "[nltk_data]   Package stopwords is already up-to-date!\n"
          ]
        },
        {
          "output_type": "execute_result",
          "data": {
            "text/plain": [
              "True"
            ]
          },
          "metadata": {},
          "execution_count": 3
        }
      ]
    },
    {
      "cell_type": "code",
      "source": [
        "import pandas as pd"
      ],
      "metadata": {
        "id": "TXloB6brj8lw"
      },
      "execution_count": 15,
      "outputs": []
    },
    {
      "cell_type": "code",
      "source": [
        "# Function to calculate sentence scores based on word frequency\n",
        "def calculate_sentence_scores(sentences, freq_dist, stop_words):\n",
        "    sentence_scores = {}\n",
        "    for sentence in sentences:\n",
        "        words = word_tokenize(sentence.lower())\n",
        "        for word in words:\n",
        "            if word in freq_dist:\n",
        "                if sentence not in sentence_scores:\n",
        "                    sentence_scores[sentence] = freq_dist[word]\n",
        "                else:\n",
        "                    sentence_scores[sentence] += freq_dist[word]\n",
        "    return sentence_scores\n",
        "\n",
        "# Function to summarize the text\n",
        "def summarize_text(text, num_sentences=5):\n",
        "    sentences = sent_tokenize(text)\n",
        "    words = word_tokenize(text.lower())\n",
        "\n",
        "    # Remove stopwords\n",
        "    stop_words = set(stopwords.words('english'))\n",
        "    filtered_words = [word for word in words if word.isalnum() and word not in stop_words]\n",
        "\n",
        "    # Calculate word frequency\n",
        "    freq_dist = FreqDist(filtered_words)\n",
        "\n",
        "    # Calculate sentence scores\n",
        "    sentence_scores = calculate_sentence_scores(sentences, freq_dist, stop_words)\n",
        "\n",
        "    # Sort sentences by score in descending order\n",
        "    sorted_sentences = sorted(sentence_scores.items(), key=lambda x: x[1], reverse=True)\n",
        "\n",
        "    # Get the top 'num_sentences' sentences for the summary\n",
        "    top_sentences = sorted_sentences[:num_sentences]\n",
        "\n",
        "    # Reorder the sentences in their original order\n",
        "    top_sentences = sorted(top_sentences, key=lambda x: sentences.index(x[0]))\n",
        "\n",
        "    # Join the top sentences to create the summary\n",
        "    summary = [sentence for sentence, score in top_sentences]\n",
        "    return TreebankWordDetokenizer().detokenize(summary)\n",
        "\n",
        "# Example usage\n",
        "if __name__ == \"__main__\":\n",
        "    with open('sample.txt', 'r') as file:\n",
        "      input_text = file.read()\n",
        "    num_sentences = 130  # Adjust this based on how long you want the summary to be\n",
        "    summary = summarize_text(input_text, num_sentences)\n",
        "    print(summary)\n"
      ],
      "metadata": {
        "colab": {
          "base_uri": "https://localhost:8080/"
        },
        "id": "F2PXIO4x729U",
        "outputId": "16126c54-8c6c-44f5-c45b-a5d013e26a52"
      },
      "execution_count": 19,
      "outputs": [
        {
          "output_type": "stream",
          "name": "stdout",
          "text": [
            "Smart Sensors In Industrial IoT Applications\n",
            "\n",
            "\n",
            "Abstract\n",
            "\n",
            "The Industrial Internet of Things (IIoT) is transforming the manufacturing industry through the integration of advanced technologies that enhance efficiency, productivity, and cost-effectiveness. IoT is a network of physical devices that communicate with each other and perform tasks. It is a combination of hardware and software devices that has the ability process data, connect, and exchange with other devices. Automation is a new chapter in this developing Technical world, where technology is being innovated or improved daily. Automation of the existing process is of greater interest in today’s world. Automation has its different meaning and uses. For different people, Automation has a different meanings. To achieve automation, We need the IoT. Smart sensors are a critical element of the IIoT ecosystem, providing real-time data on various parameters and facilitating better decision-making, process optimisation, and predictive maintenance. IoT has various applications in the industrial world as well. To understand its uses and how smart sensors can be used to improve IoT applications and make life better. This study examines the role of smart sensors in IIoT applications and their impact on industrial performance, including their integration into the broader context. It covers all about Smart sensors and their uses, IoT and its uses, What is Industrial IoT and its uses, and What happens when smart sensors are combined with IoT. It will cover whether these uses have more pros than cons or vice versa. Additionally, we explore the use of smart sensors in various IIoT applications, such as manufacturing, logistics, energy management, and transportation, to supervise and control multiple processes. These sensors enable predictive maintenance, condition monitoring, and real-time optimisation of equipment and processes, resulting in increased efficiency, reduced downtime, and improved product quality. The paper also considers the challenges of incorporating smart sensors in IIoT applications, such as data privacy and cybersecurity concerns. In this study, we will also be seeing what nanotechnology has to offer in regards of IoT and how we can use nanotech with smart sensors to save space and reduce the time taken by every process of the sensors. Nanotech is also a part of new developing technology. It is going to play a vital role in the automation of process and several other innovations. We will also be covering importance of nanotech in this context. How it is important for effective use of smart sensors in IIoT system. In summary, this study highlights the significant influence of smart sensors in IIoT applications on industrial performance and their potential to encourage innovation and enhance efficiency in the manufacturing industry. The challenges and opportunities presented by smart sensors also emphasise the importance of continuous research and development to ensure their effective integration into the IIoT system. 1.1 What are Sensors? “A sensor is a device that produces an output signal for the purpose of sensing a physical Phenomenon.” (“Sensor - Wikipedia”) I.e. It is a device that senses a motion and responds to it. There are several sensors that we see in everyday life such as light sensors, motion sensors, sound sensors etc. Every sensor has its own merits and demerits. Sensors are something that make our lives easier in multiple ways. In Technical Terms, a sensor is a device, module, machine, or subsystem that detects events or changes in its environment and sends the information to other electronics, often a computer processor. Sensors are always used with other electronics. (“Sensor - Wikipedia”) \n",
            "Sensors are used in almost every field in the present-day. These compact devices have enormous potential to be explored. Modifications of basic sensors can be of significant use in our lives. Combination of multiple sensors creates a smart sensor, which we will discuss later. The goal of any sensor is simple: gather information (vibration, temperature, pressure, voltage) that can be fed into algorithms and analytics for better real-time decision-making. Sensors play a critical role in many modern technologies, from smartphones to self-driving cars, and their applications are only continuing to grow. 1.2 History of Sensors \n",
            "Sensors have been in use for more than a century now. They have blended into our Lifes in a way that we can’t imagine what our lives would be without them. From smartwatches we wear to cars we drive, homes we live in, sensors have made an impact everywhere. Different sensors came into life at different points in our history. The first Thermostat sensor that came to the market was in 1883. Infrared sensors have been in market since late 1940’s. First motion sensor that was used as an alarm came out in 1950’s. There is not a single person who could be given credit for the invention of sensors. 1.3 Types of Sensors \n",
            "There are about 15 broad categories of sensors: \n",
            "Sound Sensors - Sound sensors are tools that can identify, quantify, and transform sound waves into electrical signals. They are often employed in various applications, including speech and music recording, public address systems, and communications. Some common examples of sound sensors are microphones, ultrasonic sensors and sound level meters. Automotive Sensors - Automotive sensors are electrical devices that aid in the monitoring of a vehicle's performance and surroundings. They monitor changes in temperature, pressure, speed, and distance and transmit this data to a car's computer. This data is then utilised to fine-tune functions like fuel injection, brakes, and steering to keep the vehicle running smoothly and safely. Oxygen sensors, airbag sensors, ABS sensors, and parking sensors are some examples of vehicle sensors. Chemical Sensors - Chemical sensors are devices that detect and quantify the presence of certain chemical compounds or gases in the environment. The chemical reactions that occur when a target substance interacts with the sensor material are converted into an electrical signal that can be processed and studied by these sensors. They have many environmental and medical applications therefore They can be found in a variety of equipment, including air quality monitors, breathalysers, and gas detectors. Electrical Sensors - Electrical sensors are devices that use physical changes in their surroundings to invoke electrical signals. Temperature, pressure, movement, and light are just a few of the factors measured by these detectors. The sensor's electrical signal may be used to watch and control multiple systems and processes in a variety of operations. Electrical sensors are employed in several sectors, including automotive, aerospace, and medicinal. They may be found in various devices, including thermostats, pressure sensors, accelerometers, and optic sensors. Environment Sensors - Environmental sensors help us keep track of physical conditions in our surroundings, such as temperature, moisture, air quality, and light. This information is used to monitor environmental conditions and supply data for various purposes, including environmental research, building automation, and industrial process control. Sensors are commonly set up in devices such as weather stations and air quality examiners, as well as smart home systems and wearable appliances. We need sensors to keep track of the conditions around us and make informed decisions about how to protect our environment. Fluid Sensors are essential devices used to determine and measure fluid parameters. These sensors are introduced in devices like pumps, machines, and pipelines and are essential in maintaining fluid systems' proper functioning. By handing over critical information about the fluid's behaviour, fluid sensors help prevent system failures and reduce preservation costs. Fluid sensors are vital elements in various industrial and corporate applications. Radiation Sensors - Radiation sensors are important devices that help us to measure the intensity of radiation in our environment. They are used in many different industries, including healthcare, nuclear power, and scientific research. They can figure out distinct types of ionizing radiation, including gamma beams, X-rays, and alpha and beta particles. This information is used to help us to monitor and control radiation exposure situations. Navigational Sensors - Navigation sensors help you understand where things are in relation to one another, which can be helpful when you're trying to get somewhere. Some navigation sensors, like GPS, use signals to figure out your location and movement. This information is used in many ways, like aviation, maritime navigation, and self-driving cars. Navigation sensors are especially important when it comes to safety and efficiency in transportation networks. Position Sensors are devices used to measure the position and movement of an object in space. They can give information about an object's direct or angular displacement, velocity, and acceleration. Position sensors are found in devices such as robotic arms, motor control systems, and industrial automation stuff, and are used in various industries to ensure the safety and efficiency of systems and devices. Optical Sensors - Optical sensors are devices that use light to determine physical qualities in their surroundings, such as distance, movement, color, and intensity. These sensors are widely used in various industries, such as industrial, automotive, and aerospace. They can be set up with cameras, scanners, and fibre-optic communication systems, among other things. They're essential in applications that require precise measurements of physical attributes, such as quality control in manufacturing or motion detection in security systems. Pressure Sensors - Pressure sensors play a critical role in many industrial operations, helping to ensure safety, accuracy, and efficiency. They are often used to monitor and regulate fluid pressures in pipes, machine pressure, and other systems. This vital technology is used in many different sectors, including automotive, aerospace, medical, and environmental. Pressure sensors are essential to the safety and success of many processes and systems. Force Sensors - Force sensors help us determine the amount of force or weight applied to an object, which is helpful in a variety of applications. They turn the applied force or pressure into an electrical signal, which can be used to determine and measure the quantum of force. In manufacturing, robotics, and other sectors, force sensors are routinely used to watch and regulate forces applied to machines, tools, and other equipment. They may also be used to measure the force of muscles, joints, and other biological tissues in exploration and development. Force sensors are critical for ensuring precision and accuracy in various processes and preventing damage to machinery and equipment. Thermal Sensors - Thermal sensors are valuable tools for accurately measuring temperature changes around them, which can be used in a variety of settings. Climate control, industrial operations, and medical devices all benefit from the use of thermal sensors. These sensors help to ensure that machines and people stay within safe temperature limits and are essential for protecting people's health in workplaces. Proximity Sensors - Proximity sensors determine the presence of items or people within a set distance of them. These sensors measure the proximity of an object using various technologies such as infrared, ultrasonic or magnetic fields. They are continually employed in a wide range of operations, including detecting the presence of an object on an assembly line, measuring how close a hand is to a touch-less gate, and determining the presence of a person at an automated door. Proximity sensors help automate many processes while also improving safety by preventing accidents or collisions. Speed Sensors - Speed sensors are devices that measure the speed of an object. They use different technologies to determine an object's speed, including magnetic, optical, and radar. Speed sensors are helpful in many industrial operations, such as regulating machine performance and improving fuel usage. 1.4 What are Smart Sensor? When two or more sensors are combined based on similar functionality and a pre-defined set of responses are stored in the sensor’s software. It is called a smart sensor. Smart sensors can take basic decisions for which they are computed for. These types of sensors are a major upgrade in the technological world. A world where technology is evolving daily. Major inventions of stuff like smart sensors are a great step. These advances help us in our development. 1.5 Use of Smart Sensors \n",
            " \n",
            "Smart Cities - Smart sensors play a vital role in the development of smart cities. These sensors help in automation of several processes reducing workforce for tiny tasks which are waste of labor but are essential for fluent working of daily events. Smart Sensors have reduced workforce from small tasks and enabled the easy diversion of labor from small tasks to bigger tasks. These sensors have increased the pace of development in urban areas. Sensors Such as: \n",
            " Smart Parking: This sensor helps in monitoring availability of parking spaces in the city with occupancy of each parking house. Structural Health: These sensors are used to monitor vibrations and materials in buildings, bridges or roads to detect any kind of anomalies and try to prevent them or minimise their effects. Smartphone Detection: This type of sensor can detect every iOS or android device which works with Wi-Fi or Bluetooth interface. Smart Lightening: These sensors can change street lighting adaptive to the weather of the area. On a frosty winter evening, lights will be brighter, similarly they will be lighter on sizzling summer days depending on the need of the hour. Smart Roads: Roads having smart sensors can provide warnings related to climate closure or damage to the road or updates about traffic on the road which will save time for a lot of people. Smart Environment – Smart Sensors can provide significant help in providing a clean environment. Sensors which can sense dirt or garbage can be really used to clean rivers. Smoke sensors can help in restraining forest fires at small scale rather than let them grow and kill the whole forest. Sensors such as: \n",
            " Forest fire Detection: These Sensors are used to monitor combustion gases and preemptive fire conditions to define the alert zones. Air Pollution: Smart Sensors in this category are used to control co2 emissions from factories and vehicles, toxic gases generated in farms. Smart Water \n",
            "Smart Metering \n",
            "Security & Emergencies \n",
            "Smart Retail \n",
            "Logistics \n",
            "Industrial Control \n",
            "Smart Agriculture \n",
            "Smart Animal Farming \n",
            "Domotic & Home Automation \n",
            "E-Health \n",
            " \n",
            "2.1 What is Internet of Things (IOT)?\n"
          ]
        }
      ]
    }
  ]
}